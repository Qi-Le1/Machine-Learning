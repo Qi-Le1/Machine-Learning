{
 "cells": [
  {
   "cell_type": "code",
   "execution_count": 1,
   "metadata": {},
   "outputs": [
    {
     "ename": "ModuleNotFoundError",
     "evalue": "No module named 'cvxopt'",
     "output_type": "error",
     "traceback": [
      "\u001b[1;31m---------------------------------------------------------------------------\u001b[0m",
      "\u001b[1;31mModuleNotFoundError\u001b[0m                       Traceback (most recent call last)",
      "\u001b[1;32m<ipython-input-1-408d240bb54c>\u001b[0m in \u001b[0;36m<module>\u001b[1;34m\u001b[0m\n\u001b[0;32m      3\u001b[0m \u001b[1;32mfrom\u001b[0m \u001b[0msklearn\u001b[0m \u001b[1;32mimport\u001b[0m \u001b[0mdatasets\u001b[0m\u001b[1;33m\u001b[0m\u001b[0m\n\u001b[0;32m      4\u001b[0m \u001b[1;32mfrom\u001b[0m \u001b[0msklearn\u001b[0m\u001b[1;33m.\u001b[0m\u001b[0mdiscriminant_analysis\u001b[0m \u001b[1;32mimport\u001b[0m \u001b[0mLinearDiscriminantAnalysis\u001b[0m\u001b[1;33m\u001b[0m\u001b[0m\n\u001b[1;32m----> 5\u001b[1;33m \u001b[1;32mfrom\u001b[0m \u001b[0mcvxopt\u001b[0m \u001b[1;32mimport\u001b[0m \u001b[0mmatrix\u001b[0m\u001b[1;33m,\u001b[0m \u001b[0msolvers\u001b[0m\u001b[1;33m\u001b[0m\u001b[0m\n\u001b[0m",
      "\u001b[1;31mModuleNotFoundError\u001b[0m: No module named 'cvxopt'"
     ]
    }
   ],
   "source": [
    "import sklearn as sk\n",
    "import numpy as np\n",
    "from sklearn import datasets\n",
    "from sklearn.discriminant_analysis import LinearDiscriminantAnalysis\n",
    "from cvxopt import matrix, solvers"
   ]
  },
  {
   "cell_type": "code",
   "execution_count": 4,
   "metadata": {},
   "outputs": [
    {
     "name": "stdout",
     "output_type": "stream",
     "text": [
      "[None, None, None, None, None, None, None, None, None, None]\n"
     ]
    }
   ],
   "source": []
  },
  {
   "cell_type": "code",
   "execution_count": 131,
   "metadata": {},
   "outputs": [
    {
     "name": "stdout",
     "output_type": "stream",
     "text": [
      "506\n"
     ]
    }
   ],
   "source": [
    "t_copy = list(t)\n",
    "t_copy.sort()\n",
    "\n",
    "print(len(X))\n",
    "\n",
    "label = []\n",
    "shape = (13,1)  # The shape of each X\n",
    "\n",
    "median = np.median(t_copy)    # Fine the median number\n",
    "seventy_five_percentile = np.percentile(t_copy, 75) # Find the 75th percentile number\n",
    "\n",
    "for i in range(506):\n",
    "    if t[i] >= median:\n",
    "        label.append(1)  #When the t number >= median, add the corresponding X to the list\n",
    "    else:\n",
    "        label.append(0)  #When the t number < median, add the corresponding X to the list\n",
    "\n",
    "# clf = LinearDiscriminantAnalysis()\n",
    "# clf.fit(X, label)\n",
    "# print(clf.coef_)\n",
    "\n",
    "Boston75_label_1 = []\n",
    "Boston75_label_0 = []\n",
    "\n",
    "for i in range(506):\n",
    "    if t[i] >= seventy_five_percentile:\n",
    "        Boston75_label_1.append(X[i].reshape(shape))     #When the t number >= 75th percentile number, add the corresponding X to the list\n",
    "    else:\n",
    "        Boston75_label_0.append(X[i].reshape(shape))     #When the t number < 75th percentile number, add the corresponding X to the list\n",
    "\n"
   ]
  },
  {
   "cell_type": "code",
   "execution_count": 162,
   "metadata": {},
   "outputs": [
    {
     "name": "stdout",
     "output_type": "stream",
     "text": [
      "86.27450980392157\n",
      "78.43137254901961\n",
      "84.31372549019608\n",
      "94.11764705882352\n",
      "80.3921568627451\n",
      "92.15686274509804\n",
      "64.70588235294117\n",
      "72.54901960784314\n",
      "98.0392156862745\n",
      "72.3404255319149\n",
      "82.33208176887776\n"
     ]
    }
   ],
   "source": [
    "def cut(X,label,testing_set_start,testing_set_end):     #Devide the training set and testing set        \n",
    "    Boston50_label_1 = []\n",
    "    Boston50_label_0 = []\n",
    "    testing_set = []\n",
    "\n",
    "    for i in range(0,testing_set_start):  #training set\n",
    "        if label[i] == 1:\n",
    "            Boston50_label_1.append(X[i].reshape(shape))     #When the label number == 1, add the corresponding X to the list\n",
    "        else:\n",
    "            Boston50_label_0.append(X[i].reshape(shape))     #When the label number != 1, add the corresponding X to the list\n",
    "\n",
    "    for i in range(testing_set_end,len(X)):   #training set\n",
    "        if(i>=len(X)):\n",
    "            break\n",
    "        if label[i] == 1:\n",
    "            Boston50_label_1.append(X[i].reshape(shape))     #When the label number == 1, add the corresponding X to the list\n",
    "        else:\n",
    "            Boston50_label_0.append(X[i].reshape(shape))     #When the label number != 1, add the corresponding X to the list\n",
    "\n",
    "    for i in range(testing_set_start,testing_set_end):   #testing set\n",
    "        if i >= len(X):\n",
    "            break\n",
    "        testing_set.append(X[i].reshape(shape))        \n",
    "    return Boston50_label_1,Boston50_label_0,testing_set\n",
    "\n",
    "def mean(Boston50_label_1,Boston50_label_0):        \n",
    "    Boston50_label_1_mean = 0 # Assume the X with label 1 is c1 part\n",
    "    Boston50_label_0_mean = 0 # Assume the X with label 0 is c2 part\n",
    "\n",
    "    Boston50_label_1_sum = 0\n",
    "    Boston50_label_0_sum = 0\n",
    "\n",
    "    for i in Boston50_label_1:\n",
    "        Boston50_label_1_sum += i\n",
    "    Boston50_label_1_mean = Boston50_label_1_sum/len(Boston50_label_1)\n",
    "\n",
    "    for i in Boston50_label_0:\n",
    "        Boston50_label_0_sum += i\n",
    "    Boston50_label_0_mean = Boston50_label_0_sum/len(Boston50_label_0)\n",
    "    return Boston50_label_1_mean,Boston50_label_0_mean\n",
    "\n",
    "def Sb_cal(Boston50_label_1_mean,Boston50_label_0_mean):\n",
    "    # Sb = (Boston50_label_1_mean - Boston50_label_0_mean)(Boston50_label_1_mean - Boston50_label_0_mean)'\n",
    "    difference_mean = Boston50_label_1_mean - Boston50_label_0_mean\n",
    "    difference_mean_transpose = np.transpose(difference_mean)\n",
    "    Sb = np.dot(difference_mean,difference_mean_transpose)\n",
    "    return Sb\n",
    "\n",
    "def Sw_cal(Boston50_label_1,Boston50_label_0,Boston50_label_1_mean,Boston50_label_0_mean):\n",
    "    #Sw = Sc1+Sc2 = covariance of c1 + covariance of c2\n",
    "    Sc1 = 0\n",
    "    Sc2 = 0\n",
    "\n",
    "    difference = 0\n",
    "    difference_transpose = 0\n",
    "\n",
    "    for i in Boston50_label_1:\n",
    "        difference = i - Boston50_label_1_mean\n",
    "        difference_transpose = np.transpose(difference)\n",
    "        Sc1 += np.dot(difference,difference_transpose)\n",
    "\n",
    "    for i in Boston50_label_0:\n",
    "        difference = i - Boston50_label_0_mean \n",
    "        difference_transpose = np.transpose(difference)\n",
    "        Sc2 += np.dot(difference,difference_transpose)\n",
    "\n",
    "    Sw = Sc1 + Sc2\n",
    "    return Sw\n",
    "\n",
    "def direction_w(Sw,Boston50_label_1_mean,Boston50_label_0_mean):\n",
    "    # The direction of w is propotional to (Sw)^(-1) * (c1_mean - c2_mean)   Formula 4.38\n",
    "    Sw_inverse = np.linalg.inv(Sw) \n",
    "    w = np.dot(Sw_inverse,(Boston50_label_1_mean - Boston50_label_0_mean))\n",
    "    return w\n",
    "\n",
    "def w0_cal(w,Boston50_label_1_sum,Boston50_label_0_sum,X):\n",
    "    # wo = -(w)'m Formula 4.34\n",
    "\n",
    "    w_transpose = np.transpose(w)\n",
    "    m = (Boston50_label_1_sum + Boston50_label_0_sum)/len(X)    #m = Sum of the two parts/the number total data points\n",
    "    w0 = -(np.dot(w_transpose,m))\n",
    "    return w0\n",
    "\n",
    "k = 0\n",
    "j = 0\n",
    "sum = 0\n",
    "for i in range(1,11):\n",
    "    correct = 0\n",
    "    correct_percentage = 0\n",
    "    \n",
    "    testing_set_start = 0 + k\n",
    "    testing_set_end = 51 + k\n",
    "    \n",
    "    testing_data_number = 0\n",
    "\n",
    "    for j in range(testing_set_start,testing_set_end):    # Devide the group into 51,51,51,51,51,51,51,51,51,47\n",
    "        if j >= len(X):\n",
    "            break\n",
    "            \n",
    "        Boston50_label_1,Boston50_label_0,testing_set = cut(X,label,testing_set_start,testing_set_end)\n",
    "        \n",
    "        Boston50_label_1_mean,Boston50_label_0_mean = mean(Boston50_label_1,Boston50_label_0)\n",
    "        \n",
    "        Sb = Sb_cal(Boston50_label_1_mean,Boston50_label_0_mean)\n",
    "        \n",
    "        Sw = Sw_cal(Boston50_label_1,Boston50_label_0,Boston50_label_1_mean,Boston50_label_0_mean)\n",
    "        \n",
    "        w = direction_w(Sw,Boston50_label_1_mean,Boston50_label_0_mean)\n",
    "        w_transpose = np.transpose(w)\n",
    "        \n",
    "        w0 = w0_cal(w,Boston50_label_1_sum,Boston50_label_0_sum,X)\n",
    "        \n",
    "        testing_result = np.dot(w_transpose,X[j]) + w0\n",
    "        \n",
    "        if(testing_result >= 0):        \n",
    "            if(label[j] == 1):\n",
    "                correct += 1\n",
    "        else:\n",
    "            if(label[j] == 0):\n",
    "                correct += 1\n",
    "        \n",
    "        testing_data_number += 1\n",
    "    correct_percentage = correct/testing_data_number * 100\n",
    "    sum+=correct_percentage\n",
    "    k = i * 51\n",
    "    \n",
    "    print(correct_percentage)\n",
    "\n",
    "print(sum/10)"
   ]
  },
  {
   "cell_type": "code",
   "execution_count": 157,
   "metadata": {},
   "outputs": [],
   "source": [
    "# for i in range(9):\n",
    "#     correct = 0\n",
    "#     corr = 0\n",
    "#     for j in range(0+k,52+k):\n",
    "#         print(X[j].reshape(shape))\n",
    "#         a = clf.predict(X[j].reshape(shape))\n",
    "#         #X[j].reshape(shape)\n",
    "#         if a == 1 and label(j)==1:           \n",
    "#             correct += 1\n",
    "#         elif a == 0 and label(j)==0:\n",
    "#             correct += 1\n",
    "            \n",
    "\n",
    "#     corr = correct/51\n",
    "#     k = (i+1)*52\n",
    "#     print(corr)\n",
    "#     print(k)\n",
    "\n"
   ]
  },
  {
   "cell_type": "code",
   "execution_count": 147,
   "metadata": {},
   "outputs": [],
   "source": [
    "Y, z = sk.datasets.load_digits(n_class=10, return_X_y=True)\n"
   ]
  },
  {
   "cell_type": "code",
   "execution_count": null,
   "metadata": {},
   "outputs": [],
   "source": []
  },
  {
   "cell_type": "code",
   "execution_count": null,
   "metadata": {},
   "outputs": [],
   "source": []
  }
 ],
 "metadata": {
  "kernelspec": {
   "display_name": "Python 3",
   "language": "python",
   "name": "python3"
  },
  "language_info": {
   "codemirror_mode": {
    "name": "ipython",
    "version": 3
   },
   "file_extension": ".py",
   "mimetype": "text/x-python",
   "name": "python",
   "nbconvert_exporter": "python",
   "pygments_lexer": "ipython3",
   "version": "3.6.4"
  }
 },
 "nbformat": 4,
 "nbformat_minor": 4
}
